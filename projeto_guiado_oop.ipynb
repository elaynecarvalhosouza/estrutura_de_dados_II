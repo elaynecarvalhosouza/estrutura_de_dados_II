{
  "cells": [
    {
      "cell_type": "code",
      "execution_count": 1,
      "metadata": {
        "trusted": true
      },
      "outputs": [],
      "source": [
        "from csv import reader\n",
        "class Data():\n",
        "  def __init__(self, file_name):\n",
        "   \n",
        "    opened_file = open(file_name)\n",
        "    read_file = reader(opened_file)\n",
        "\n",
        "    data = list(read_file)\n",
        "\n",
        "    self.data_header = data[0]\n",
        "\n",
        "    self.data = data[1:]\n",
        "\n",
        "  def explore_data(self, start, end, rows_and_columns=False):\n",
        "    dataset_slice = self.data[start:end]\n",
        "    for row in dataset_slice:\n",
        "      print(row)\n",
        "      print('\\n') \n",
        "\n",
        "    if rows_and_columns:\n",
        "      print('Number of rows:', len(self.data)) \n",
        "      print('Number of columns:', len(self.data[0]))\n",
        "\n",
        "  def del_incorrect_row(self, index):\n",
        "    print('length before', len(self.data))\n",
        "    del self.data[index]\n",
        "    print('length after', len(self.data))  \n",
        "\n",
        "  def check_duplicate(self, target):\n",
        "    for app in self.data:\n",
        "      name = app[0]\n",
        "      if name == target:\n",
        "        print(app)\n",
        "  \n",
        "  def number_duplicate(self):\n",
        "    duplicate_apps = [] # duplicate\n",
        "    unique_apps = [] # non-duplicate\n",
        "\n",
        "    for app in self.data:\n",
        "        name = app[0]\n",
        "        if name in unique_apps:\n",
        "            duplicate_apps.append(name)\n",
        "        else:\n",
        "            unique_apps.append(name)\n",
        "    print('Number of duplicate apps:', len(duplicate_apps))\n",
        "    print('\\n')\n",
        "    print('Examples of duplicate apps:', duplicate_apps[:15])\n",
        "\n",
        "  def create_dictionary(self):\n",
        "    self.reviews_max = {}\n",
        "\n",
        "    for app in self.data:\n",
        "        name = app[0]\n",
        "        n_reviews = float(app[3]) # convert the number of reviews to float\n",
        "        \n",
        "        if name in self.reviews_max and self.reviews_max[name] < n_reviews: \n",
        "            self.reviews_max[name] = n_reviews\n",
        "            \n",
        "        elif name not in self.reviews_max:\n",
        "            self.reviews_max[name] = n_reviews # create a new entry in the dictionary \n",
        "\n",
        "    print('Expected length:', len(self.data) - 1181)\n",
        "    print('Actual length:', len(self.reviews_max))\n",
        "\n",
        "  def remove_duplicate(self):\n",
        "      data_clean = []\n",
        "      already_added = []\n",
        "      \n",
        "      for app in self.data:\n",
        "        name = app[0]\n",
        "        n_reviews = float(app[3])\n",
        "      \n",
        "        if (self.reviews_max[name] == n_reviews) and (name not in already_added):\n",
        "          data_clean.append(app)                                        \n",
        "          already_added.append(name) \n",
        "      self.data = data_clean\n",
        "\n",
        "  def is_english(self, string):\n",
        "    non_ascii = 0\n",
        "    for character in string:\n",
        "        if ord(character) > 127:\n",
        "            non_ascii += 1\n",
        "    \n",
        "    if non_ascii > 3:\n",
        "        return False\n",
        "    else:\n",
        "        return True\n",
        "  \n",
        "  def remove_non_english(self, index):\n",
        "    data_is_english = []\n",
        "\n",
        "    for app in self.data:\n",
        "        name = app[index]\n",
        "        if self.is_english(name):\n",
        "            data_is_english.append(app)\n",
        "    self.data = data_is_english\n",
        "    self.explore_data(0, 3, True)\n",
        "  \n",
        "  def isolating_free(self, formact_price, index):\n",
        "    data_final = []\n",
        "\n",
        "    for app in self.data:\n",
        "        price = app[index]\n",
        "        if price == formact_price:\n",
        "            data_final.append(app)\n",
        "    self.data = data_final\n",
        "    print(len(data_final))\n",
        "\n",
        "  def freq_table(self, index):\n",
        "    table = {}\n",
        "    total = 0\n",
        "    \n",
        "    for row in self.data:\n",
        "        total += 1\n",
        "        value = row[index]\n",
        "        if value in table:\n",
        "            table[value] += 1\n",
        "        else:\n",
        "            table[value] = 1\n",
        "    \n",
        "    table_percentages = {}\n",
        "\n",
        "    for key in table:\n",
        "        percentage = (table[key] / total) * 100\n",
        "        table_percentages[key] = percentage \n",
        "    \n",
        "    return table_percentages\n",
        "  \n",
        "  def display_table(self, index):\n",
        "    table = self.freq_table(index)\n",
        "    table_display = []\n",
        "    for key in table:\n",
        "        key_val_as_tuple = (table[key], key)\n",
        "        table_display.append(key_val_as_tuple)\n",
        "        \n",
        "    table_sorted = sorted(table_display, reverse = True)\n",
        "    for entry in table_sorted:\n",
        "        print(entry[1], ':', entry[0])"
      ]
    },
    {
      "cell_type": "code",
      "execution_count": null,
      "metadata": {
        "trusted": true
      },
      "outputs": [],
      "source": [
        "ios = Data('AppleStore.csv')\n",
        "ios.explore_data(0, 3, True)"
      ]
    },
    {
      "cell_type": "code",
      "execution_count": null,
      "metadata": {
        "trusted": true
      },
      "outputs": [],
      "source": [
        "android = Data('googleplaystore.csv')\n",
        "android.explore_data(0, 3, True)"
      ]
    },
    {
      "cell_type": "code",
      "execution_count": null,
      "metadata": {
        "trusted": true
      },
      "outputs": [],
      "source": [
        "android.explore_data(10472,10473) # incorrect row"
      ]
    },
    {
      "cell_type": "code",
      "execution_count": null,
      "metadata": {
        "trusted": true
      },
      "outputs": [],
      "source": [
        "android.del_incorrect_row(10472) # remove"
      ]
    },
    {
      "cell_type": "code",
      "execution_count": null,
      "metadata": {
        "trusted": true
      },
      "outputs": [],
      "source": [
        "android.check_duplicate('Instagram')"
      ]
    },
    {
      "cell_type": "code",
      "execution_count": null,
      "metadata": {
        "trusted": true
      },
      "outputs": [],
      "source": [
        "android.check_duplicate('Facebook')"
      ]
    },
    {
      "cell_type": "code",
      "execution_count": null,
      "metadata": {
        "trusted": true
      },
      "outputs": [],
      "source": [
        "android.number_duplicate()"
      ]
    },
    {
      "cell_type": "code",
      "execution_count": null,
      "metadata": {
        "trusted": true
      },
      "outputs": [],
      "source": [
        "android.create_dictionary()"
      ]
    },
    {
      "cell_type": "code",
      "execution_count": null,
      "metadata": {
        "trusted": true
      },
      "outputs": [],
      "source": [
        "android.remove_duplicate()"
      ]
    },
    {
      "cell_type": "code",
      "execution_count": null,
      "metadata": {
        "trusted": true
      },
      "outputs": [],
      "source": [
        "android.explore_data(0, 3, True)"
      ]
    },
    {
      "cell_type": "code",
      "execution_count": null,
      "metadata": {
        "trusted": true
      },
      "outputs": [],
      "source": [
        "print(android.is_english('Instagram'))\n",
        "print(android.is_english('爱奇艺PPS -《欢乐颂2》电视剧热播'))"
      ]
    },
    {
      "cell_type": "code",
      "execution_count": null,
      "metadata": {
        "trusted": true
      },
      "outputs": [],
      "source": [
        "print(android.is_english('Docs To Go™ Free Office Suite'))\n",
        "print(android.is_english('Instachat 😜'))"
      ]
    },
    {
      "cell_type": "code",
      "execution_count": null,
      "metadata": {
        "trusted": true
      },
      "outputs": [],
      "source": [
        "android.remove_non_english(0)"
      ]
    },
    {
      "cell_type": "code",
      "execution_count": null,
      "metadata": {
        "trusted": true
      },
      "outputs": [],
      "source": [
        "ios.remove_non_english(1)"
      ]
    },
    {
      "cell_type": "code",
      "execution_count": null,
      "metadata": {
        "trusted": true
      },
      "outputs": [],
      "source": [
        "android.isolating_free('0', 7)"
      ]
    },
    {
      "cell_type": "code",
      "execution_count": null,
      "metadata": {
        "trusted": true
      },
      "outputs": [],
      "source": [
        "ios.isolating_free('0.0', 4)"
      ]
    },
    {
      "cell_type": "code",
      "execution_count": null,
      "metadata": {
        "trusted": true
      },
      "outputs": [],
      "source": [
        "ios.display_table(-5) # prime_genre column"
      ]
    },
    {
      "cell_type": "code",
      "execution_count": null,
      "metadata": {
        "trusted": true
      },
      "outputs": [],
      "source": [
        "android.display_table(1) # category"
      ]
    },
    {
      "cell_type": "code",
      "execution_count": null,
      "metadata": {
        "trusted": true
      },
      "outputs": [],
      "source": [
        "android.display_table(-4) # the genres column is much more granular (it has more categories)"
      ]
    },
    {
      "cell_type": "code",
      "execution_count": null,
      "metadata": {
        "trusted": true
      },
      "outputs": [],
      "source": [
        "# most popular apps by genre on the app store\n",
        "genres_ios = ios.freq_table(-5)\n",
        "\n",
        "for genre in genres_ios:\n",
        "    total = 0\n",
        "    len_genre = 0\n",
        "    for app in ios.data:\n",
        "        genre_app = app[-5]\n",
        "        if genre_app == genre:            \n",
        "            n_ratings = float(app[5])\n",
        "            total += n_ratings\n",
        "            len_genre += 1\n",
        "    avg_n_ratings = total / len_genre\n",
        "    print(genre, ':', avg_n_ratings)"
      ]
    },
    {
      "cell_type": "code",
      "execution_count": null,
      "metadata": {
        "trusted": true
      },
      "outputs": [],
      "source": [
        "# navigation apps \n",
        "for app in ios.data:\n",
        "    if app[-5] == 'Navigation':\n",
        "        print(app[1], ':', app[5]) # print name and number of ratings"
      ]
    },
    {
      "cell_type": "code",
      "execution_count": null,
      "metadata": {
        "trusted": true
      },
      "outputs": [],
      "source": [
        "# reference apps\n",
        "for app in ios.data:\n",
        "    if app[-5] == 'Reference':\n",
        "        print(app[1], ':', app[5])"
      ]
    },
    {
      "cell_type": "code",
      "execution_count": null,
      "metadata": {
        "trusted": true
      },
      "outputs": [],
      "source": [
        "# most mopular apps by genre on google play\n",
        "android.display_table(5) # the Installs columns"
      ]
    },
    {
      "cell_type": "code",
      "execution_count": null,
      "metadata": {
        "trusted": true
      },
      "outputs": [],
      "source": [
        "\n",
        "categories_android = android.freq_table(1)\n",
        "\n",
        "for category in categories_android:\n",
        "    total = 0\n",
        "    len_category = 0\n",
        "    for app in android.data:\n",
        "        category_app = app[1]\n",
        "        if category_app == category:            \n",
        "            n_installs = app[5]\n",
        "            n_installs = n_installs.replace(',', '')\n",
        "            n_installs = n_installs.replace('+', '')\n",
        "            total += float(n_installs)\n",
        "            len_category += 1\n",
        "    avg_n_installs = total / len_category\n",
        "    print(category, ':', avg_n_installs)"
      ]
    },
    {
      "cell_type": "code",
      "execution_count": null,
      "metadata": {
        "trusted": true
      },
      "outputs": [],
      "source": [
        "\n",
        "for app in android.data:\n",
        "    if app[1] == 'COMMUNICATION' and (app[5] == '1,000,000,000+'\n",
        "                                      or app[5] == '500,000,000+'\n",
        "                                      or app[5] == '100,000,000+'):\n",
        "        print(app[0], ':', app[5])"
      ]
    },
    {
      "cell_type": "code",
      "execution_count": null,
      "metadata": {
        "trusted": true
      },
      "outputs": [],
      "source": [
        "\n",
        "under_100_m = []\n",
        "\n",
        "for app in android.data:\n",
        "    n_installs = app[5]\n",
        "    n_installs = n_installs.replace(',', '')\n",
        "    n_installs = n_installs.replace('+', '')\n",
        "    if (app[1] == 'COMMUNICATION') and (float(n_installs) < 100000000):\n",
        "        under_100_m.append(float(n_installs))\n",
        "        \n",
        "sum(under_100_m) / len(under_100_m)"
      ]
    },
    {
      "cell_type": "code",
      "execution_count": null,
      "metadata": {
        "trusted": true
      },
      "outputs": [],
      "source": [
        "\n",
        "for app in android.data:\n",
        "    if app[1] == 'BOOKS_AND_REFERENCE':\n",
        "        print(app[0], ':', app[5])"
      ]
    },
    {
      "cell_type": "code",
      "execution_count": null,
      "metadata": {
        "trusted": true
      },
      "outputs": [],
      "source": [
        "\n",
        "for app in android.data:\n",
        "    if app[1] == 'BOOKS_AND_REFERENCE' and (app[5] == '1,000,000,000+'\n",
        "                                            or app[5] == '500,000,000+'\n",
        "                                            or app[5] == '100,000,000+'):\n",
        "        print(app[0], ':', app[5])"
      ]
    },
    {
      "cell_type": "code",
      "execution_count": null,
      "metadata": {
        "trusted": true
      },
      "outputs": [],
      "source": [
        "\n",
        "for app in android.data:\n",
        "    if app[1] == 'BOOKS_AND_REFERENCE' and (app[5] == '1,000,000+'\n",
        "                                            or app[5] == '5,000,000+'\n",
        "                                            or app[5] == '10,000,000+'\n",
        "                                            or app[5] == '50,000,000+'):\n",
        "        print(app[0], ':', app[5])"
      ]
    },
    {
      "cell_type": "code",
      "execution_count": null,
      "metadata": {},
      "outputs": [],
      "source": []
    }
  ],
  "metadata": {
    "kernelspec": {
      "display_name": "Python (Pyodide)",
      "language": "python",
      "name": "python"
    },
    "language_info": {
      "codemirror_mode": {
        "name": "python",
        "version": 3
      },
      "file_extension": ".py",
      "mimetype": "text/x-python",
      "name": "python",
      "nbconvert_exporter": "python",
      "pygments_lexer": "ipython3",
      "version": "3.8"
    }
  },
  "nbformat": 4,
  "nbformat_minor": 4
}
